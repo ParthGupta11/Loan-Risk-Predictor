{
 "cells": [
  {
   "cell_type": "markdown",
   "id": "2bf28ed4",
   "metadata": {},
   "source": [
    "## LOAN DEFAULTER PREDICTION"
   ]
  },
  {
   "cell_type": "markdown",
   "id": "2da4bfac",
   "metadata": {},
   "source": [
    "## Importing Libraries"
   ]
  },
  {
   "cell_type": "code",
   "execution_count": 1,
   "id": "64597a6f",
   "metadata": {},
   "outputs": [],
   "source": [
    "import pandas as pd\n",
    "import numpy as np\n",
    "import matplotlib.pyplot as plt\n",
    "import seaborn as sns\n",
    "import optuna"
   ]
  },
  {
   "cell_type": "markdown",
   "id": "f53dde46",
   "metadata": {},
   "source": [
    "## Loading the Data"
   ]
  },
  {
   "cell_type": "code",
   "execution_count": 2,
   "id": "54128b87",
   "metadata": {},
   "outputs": [
    {
     "data": {
      "text/html": [
       "<div>\n",
       "<style scoped>\n",
       "    .dataframe tbody tr th:only-of-type {\n",
       "        vertical-align: middle;\n",
       "    }\n",
       "\n",
       "    .dataframe tbody tr th {\n",
       "        vertical-align: top;\n",
       "    }\n",
       "\n",
       "    .dataframe thead th {\n",
       "        text-align: right;\n",
       "    }\n",
       "</style>\n",
       "<table border=\"1\" class=\"dataframe\">\n",
       "  <thead>\n",
       "    <tr style=\"text-align: right;\">\n",
       "      <th></th>\n",
       "      <th>Income</th>\n",
       "      <th>Age</th>\n",
       "      <th>Experience</th>\n",
       "      <th>Married/Single</th>\n",
       "      <th>House_Ownership</th>\n",
       "      <th>Car_Ownership</th>\n",
       "      <th>Profession</th>\n",
       "      <th>CITY</th>\n",
       "      <th>STATE</th>\n",
       "      <th>CURRENT_JOB_YRS</th>\n",
       "      <th>CURRENT_HOUSE_YRS</th>\n",
       "      <th>Risk_Flag</th>\n",
       "    </tr>\n",
       "  </thead>\n",
       "  <tbody>\n",
       "    <tr>\n",
       "      <th>0</th>\n",
       "      <td>1303834</td>\n",
       "      <td>23</td>\n",
       "      <td>3</td>\n",
       "      <td>single</td>\n",
       "      <td>rented</td>\n",
       "      <td>no</td>\n",
       "      <td>Mechanical_engineer</td>\n",
       "      <td>Rewa</td>\n",
       "      <td>Madhya_Pradesh</td>\n",
       "      <td>3</td>\n",
       "      <td>13</td>\n",
       "      <td>0</td>\n",
       "    </tr>\n",
       "    <tr>\n",
       "      <th>1</th>\n",
       "      <td>7574516</td>\n",
       "      <td>40</td>\n",
       "      <td>10</td>\n",
       "      <td>single</td>\n",
       "      <td>rented</td>\n",
       "      <td>no</td>\n",
       "      <td>Software_Developer</td>\n",
       "      <td>Parbhani</td>\n",
       "      <td>Maharashtra</td>\n",
       "      <td>9</td>\n",
       "      <td>13</td>\n",
       "      <td>0</td>\n",
       "    </tr>\n",
       "    <tr>\n",
       "      <th>2</th>\n",
       "      <td>3991815</td>\n",
       "      <td>66</td>\n",
       "      <td>4</td>\n",
       "      <td>married</td>\n",
       "      <td>rented</td>\n",
       "      <td>no</td>\n",
       "      <td>Technical_writer</td>\n",
       "      <td>Alappuzha</td>\n",
       "      <td>Kerala</td>\n",
       "      <td>4</td>\n",
       "      <td>10</td>\n",
       "      <td>0</td>\n",
       "    </tr>\n",
       "    <tr>\n",
       "      <th>3</th>\n",
       "      <td>6256451</td>\n",
       "      <td>41</td>\n",
       "      <td>2</td>\n",
       "      <td>single</td>\n",
       "      <td>rented</td>\n",
       "      <td>yes</td>\n",
       "      <td>Software_Developer</td>\n",
       "      <td>Bhubaneswar</td>\n",
       "      <td>Odisha</td>\n",
       "      <td>2</td>\n",
       "      <td>12</td>\n",
       "      <td>1</td>\n",
       "    </tr>\n",
       "    <tr>\n",
       "      <th>4</th>\n",
       "      <td>5768871</td>\n",
       "      <td>47</td>\n",
       "      <td>11</td>\n",
       "      <td>single</td>\n",
       "      <td>rented</td>\n",
       "      <td>no</td>\n",
       "      <td>Civil_servant</td>\n",
       "      <td>Tiruchirappalli[10]</td>\n",
       "      <td>Tamil_Nadu</td>\n",
       "      <td>3</td>\n",
       "      <td>14</td>\n",
       "      <td>1</td>\n",
       "    </tr>\n",
       "  </tbody>\n",
       "</table>\n",
       "</div>"
      ],
      "text/plain": [
       "    Income  Age  Experience Married/Single House_Ownership Car_Ownership  \\\n",
       "0  1303834   23           3         single          rented            no   \n",
       "1  7574516   40          10         single          rented            no   \n",
       "2  3991815   66           4        married          rented            no   \n",
       "3  6256451   41           2         single          rented           yes   \n",
       "4  5768871   47          11         single          rented            no   \n",
       "\n",
       "            Profession                 CITY           STATE  CURRENT_JOB_YRS  \\\n",
       "0  Mechanical_engineer                 Rewa  Madhya_Pradesh                3   \n",
       "1   Software_Developer             Parbhani     Maharashtra                9   \n",
       "2     Technical_writer            Alappuzha          Kerala                4   \n",
       "3   Software_Developer          Bhubaneswar          Odisha                2   \n",
       "4        Civil_servant  Tiruchirappalli[10]      Tamil_Nadu                3   \n",
       "\n",
       "   CURRENT_HOUSE_YRS  Risk_Flag  \n",
       "0                 13          0  \n",
       "1                 13          0  \n",
       "2                 10          0  \n",
       "3                 12          1  \n",
       "4                 14          1  "
      ]
     },
     "execution_count": 2,
     "metadata": {},
     "output_type": "execute_result"
    }
   ],
   "source": [
    "df = pd.read_csv(\"Data.csv\")\n",
    "df = df.drop(\"Id\", axis=1)\n",
    "df.head()"
   ]
  },
  {
   "cell_type": "code",
   "execution_count": 3,
   "id": "7e489579",
   "metadata": {},
   "outputs": [
    {
     "name": "stdout",
     "output_type": "stream",
     "text": [
      "<class 'pandas.core.frame.DataFrame'>\n",
      "RangeIndex: 252000 entries, 0 to 251999\n",
      "Data columns (total 12 columns):\n",
      " #   Column             Non-Null Count   Dtype \n",
      "---  ------             --------------   ----- \n",
      " 0   Income             252000 non-null  int64 \n",
      " 1   Age                252000 non-null  int64 \n",
      " 2   Experience         252000 non-null  int64 \n",
      " 3   Married/Single     252000 non-null  object\n",
      " 4   House_Ownership    252000 non-null  object\n",
      " 5   Car_Ownership      252000 non-null  object\n",
      " 6   Profession         252000 non-null  object\n",
      " 7   CITY               252000 non-null  object\n",
      " 8   STATE              252000 non-null  object\n",
      " 9   CURRENT_JOB_YRS    252000 non-null  int64 \n",
      " 10  CURRENT_HOUSE_YRS  252000 non-null  int64 \n",
      " 11  Risk_Flag          252000 non-null  int64 \n",
      "dtypes: int64(6), object(6)\n",
      "memory usage: 23.1+ MB\n"
     ]
    }
   ],
   "source": [
    "df.info()"
   ]
  },
  {
   "cell_type": "code",
   "execution_count": 4,
   "id": "b05c08e0",
   "metadata": {},
   "outputs": [
    {
     "data": {
      "text/html": [
       "<div>\n",
       "<style scoped>\n",
       "    .dataframe tbody tr th:only-of-type {\n",
       "        vertical-align: middle;\n",
       "    }\n",
       "\n",
       "    .dataframe tbody tr th {\n",
       "        vertical-align: top;\n",
       "    }\n",
       "\n",
       "    .dataframe thead th {\n",
       "        text-align: right;\n",
       "    }\n",
       "</style>\n",
       "<table border=\"1\" class=\"dataframe\">\n",
       "  <thead>\n",
       "    <tr style=\"text-align: right;\">\n",
       "      <th></th>\n",
       "      <th>Income</th>\n",
       "      <th>Age</th>\n",
       "      <th>Experience</th>\n",
       "      <th>CURRENT_JOB_YRS</th>\n",
       "      <th>CURRENT_HOUSE_YRS</th>\n",
       "      <th>Risk_Flag</th>\n",
       "    </tr>\n",
       "  </thead>\n",
       "  <tbody>\n",
       "    <tr>\n",
       "      <th>count</th>\n",
       "      <td>2.520000e+05</td>\n",
       "      <td>252000.000000</td>\n",
       "      <td>252000.000000</td>\n",
       "      <td>252000.000000</td>\n",
       "      <td>252000.000000</td>\n",
       "      <td>252000.000000</td>\n",
       "    </tr>\n",
       "    <tr>\n",
       "      <th>mean</th>\n",
       "      <td>4.997117e+06</td>\n",
       "      <td>49.954071</td>\n",
       "      <td>10.084437</td>\n",
       "      <td>6.333877</td>\n",
       "      <td>11.997794</td>\n",
       "      <td>0.123000</td>\n",
       "    </tr>\n",
       "    <tr>\n",
       "      <th>std</th>\n",
       "      <td>2.878311e+06</td>\n",
       "      <td>17.063855</td>\n",
       "      <td>6.002590</td>\n",
       "      <td>3.647053</td>\n",
       "      <td>1.399037</td>\n",
       "      <td>0.328438</td>\n",
       "    </tr>\n",
       "    <tr>\n",
       "      <th>min</th>\n",
       "      <td>1.031000e+04</td>\n",
       "      <td>21.000000</td>\n",
       "      <td>0.000000</td>\n",
       "      <td>0.000000</td>\n",
       "      <td>10.000000</td>\n",
       "      <td>0.000000</td>\n",
       "    </tr>\n",
       "    <tr>\n",
       "      <th>25%</th>\n",
       "      <td>2.503015e+06</td>\n",
       "      <td>35.000000</td>\n",
       "      <td>5.000000</td>\n",
       "      <td>3.000000</td>\n",
       "      <td>11.000000</td>\n",
       "      <td>0.000000</td>\n",
       "    </tr>\n",
       "    <tr>\n",
       "      <th>50%</th>\n",
       "      <td>5.000694e+06</td>\n",
       "      <td>50.000000</td>\n",
       "      <td>10.000000</td>\n",
       "      <td>6.000000</td>\n",
       "      <td>12.000000</td>\n",
       "      <td>0.000000</td>\n",
       "    </tr>\n",
       "    <tr>\n",
       "      <th>75%</th>\n",
       "      <td>7.477502e+06</td>\n",
       "      <td>65.000000</td>\n",
       "      <td>15.000000</td>\n",
       "      <td>9.000000</td>\n",
       "      <td>13.000000</td>\n",
       "      <td>0.000000</td>\n",
       "    </tr>\n",
       "    <tr>\n",
       "      <th>max</th>\n",
       "      <td>9.999938e+06</td>\n",
       "      <td>79.000000</td>\n",
       "      <td>20.000000</td>\n",
       "      <td>14.000000</td>\n",
       "      <td>14.000000</td>\n",
       "      <td>1.000000</td>\n",
       "    </tr>\n",
       "  </tbody>\n",
       "</table>\n",
       "</div>"
      ],
      "text/plain": [
       "             Income            Age     Experience  CURRENT_JOB_YRS  \\\n",
       "count  2.520000e+05  252000.000000  252000.000000    252000.000000   \n",
       "mean   4.997117e+06      49.954071      10.084437         6.333877   \n",
       "std    2.878311e+06      17.063855       6.002590         3.647053   \n",
       "min    1.031000e+04      21.000000       0.000000         0.000000   \n",
       "25%    2.503015e+06      35.000000       5.000000         3.000000   \n",
       "50%    5.000694e+06      50.000000      10.000000         6.000000   \n",
       "75%    7.477502e+06      65.000000      15.000000         9.000000   \n",
       "max    9.999938e+06      79.000000      20.000000        14.000000   \n",
       "\n",
       "       CURRENT_HOUSE_YRS      Risk_Flag  \n",
       "count      252000.000000  252000.000000  \n",
       "mean           11.997794       0.123000  \n",
       "std             1.399037       0.328438  \n",
       "min            10.000000       0.000000  \n",
       "25%            11.000000       0.000000  \n",
       "50%            12.000000       0.000000  \n",
       "75%            13.000000       0.000000  \n",
       "max            14.000000       1.000000  "
      ]
     },
     "execution_count": 4,
     "metadata": {},
     "output_type": "execute_result"
    }
   ],
   "source": [
    "df.describe()"
   ]
  },
  {
   "cell_type": "code",
   "execution_count": 5,
   "id": "6ea60250",
   "metadata": {},
   "outputs": [],
   "source": [
    "# splitting data into train, validation and test sets to avoid data leakage\n",
    "\n",
    "from sklearn.model_selection import train_test_split as tts\n",
    "train, valid_test = tts(df.copy(), test_size=0.2, random_state=42)\n",
    "valid, test = tts(valid_test.copy(), test_size=0.5, random_state=42)"
   ]
  },
  {
   "cell_type": "code",
   "execution_count": 6,
   "id": "4783178d",
   "metadata": {},
   "outputs": [
    {
     "name": "stdout",
     "output_type": "stream",
     "text": [
      "Numerical Columns : ['Income', 'Age', 'Experience', 'CURRENT_JOB_YRS', 'CURRENT_HOUSE_YRS', 'Risk_Flag']\n",
      "Categorical Columns : ['Married/Single', 'House_Ownership', 'Car_Ownership', 'Profession', 'CITY', 'STATE']\n"
     ]
    }
   ],
   "source": [
    "# creating list of numerical and categorical features\n",
    "\n",
    "num_cols = [column for column in train.columns if train.dtypes[column] == \"int64\"]\n",
    "cat_cols = [column for column in train.columns if train.dtypes[column] == \"object\"]\n",
    "\n",
    "print(\"Numerical Columns : \" + str(num_cols))\n",
    "print(\"Categorical Columns : \" + str(cat_cols))"
   ]
  },
  {
   "cell_type": "markdown",
   "id": "148a2874",
   "metadata": {},
   "source": [
    "## Exploratory Data Analysis"
   ]
  },
  {
   "cell_type": "markdown",
   "id": "a990697b",
   "metadata": {},
   "source": [
    "### Numerical Features"
   ]
  },
  {
   "cell_type": "code",
   "execution_count": 7,
   "id": "93ef8fa5",
   "metadata": {},
   "outputs": [
    {
     "data": {
      "image/png": "[encoded data removed]",
      "text/plain": [
       "<Figure size 864x648 with 6 Axes>"
      ]
     },
     "metadata": {
      "needs_background": "light"
     },
     "output_type": "display_data"
    }
   ],
   "source": [
    "# visualizing the distribution of all numerical features and the label\n",
    "\n",
    "train.hist(figsize=(12, 9))\n",
    "plt.show()"
   ]
  },
  {
   "cell_type": "markdown",
   "id": "b175d659",
   "metadata": {},
   "source": [
    "##### The distribution of Risk_Flag shows imbalance in classes.\n",
    "Sampling techniques will be used on the training set to make the classes equal."
   ]
  },
  {
   "cell_type": "code",
   "execution_count": 8,
   "id": "ff70ca48",
   "metadata": {},
   "outputs": [
    {
     "data": {
      "text/plain": [
       "[]"
      ]
     },
     "execution_count": 8,
     "metadata": {},
     "output_type": "execute_result"
    },
    {
     "data": {
      "image/png": "[encoded data removed]",
      "text/plain": [
       "<Figure size 432x288 with 2 Axes>"
      ]
     },
     "metadata": {
      "needs_background": "light"
     },
     "output_type": "display_data"
    }
   ],
   "source": [
    "# plotting the correlation matrix using seaborn to check for correlation between numerical features\n",
    "\n",
    "corr_mat = train.corr()\n",
    "sns.heatmap(corr_mat, vmin=-1, vmax=1, center=0, annot=True)\n",
    "plt.plot()"
   ]
  },
  {
   "cell_type": "code",
   "execution_count": 9,
   "id": "c3fd1112",
   "metadata": {},
   "outputs": [
    {
     "data": {
      "text/plain": [
       "[]"
      ]
     },
     "execution_count": 9,
     "metadata": {},
     "output_type": "execute_result"
    },
    {
     "data": {
      "image/png": "[encoded data removed]",
      "text/plain": [
       "<Figure size 720x144 with 1 Axes>"
      ]
     },
     "metadata": {
      "needs_background": "light"
     },
     "output_type": "display_data"
    }
   ],
   "source": [
    "# checking for outliers\n",
    "# replace 'Income' with any other numerical feature that you need to inspect and re-run the cell\n",
    "\n",
    "plt.figure(figsize=(10,2))\n",
    "sns.boxplot(data=train['Income'].values, orient='h') \n",
    "plt.plot()\n",
    "\n",
    "# no feature shows any outliers in the boxplot"
   ]
  },
  {
   "cell_type": "markdown",
   "id": "958686f6",
   "metadata": {},
   "source": [
    "### Categorical Features"
   ]
  },
  {
   "cell_type": "code",
   "execution_count": 10,
   "id": "6d1692c6",
   "metadata": {},
   "outputs": [
    {
     "name": "stdout",
     "output_type": "stream",
     "text": [
      "Married/Single : 2\n",
      "House_Ownership : 3\n",
      "Car_Ownership : 2\n",
      "Profession : 51\n",
      "CITY : 317\n",
      "STATE : 29\n"
     ]
    }
   ],
   "source": [
    "def print_count_cats(df, columns):\n",
    "    '''\n",
    "    print the number of categories in each categorical feature\n",
    "    '''\n",
    "    for column in columns:\n",
    "        count = len(df[column].value_counts())\n",
    "        print(\"{0} : {1}\".format(column, count))\n",
    "\n",
    "print_count_cats(train, cat_cols)"
   ]
  },
  {
   "cell_type": "markdown",
   "id": "775fd662",
   "metadata": {},
   "source": [
    "## Feature Engineering - Modifying the features"
   ]
  },
  {
   "cell_type": "code",
   "execution_count": 11,
   "id": "1861f77a",
   "metadata": {},
   "outputs": [],
   "source": [
    "# seperating the features and the label\n",
    "\n",
    "train_y = train['Risk_Flag'].copy()\n",
    "train = train.drop('Risk_Flag', axis=1)\n",
    "\n",
    "valid_y = valid['Risk_Flag'].copy()\n",
    "valid = valid.drop('Risk_Flag', axis=1)\n",
    "\n",
    "test_y = test['Risk_Flag'].copy()\n",
    "test = test.drop('Risk_Flag', axis=1)"
   ]
  },
  {
   "cell_type": "markdown",
   "id": "f4a22f0f",
   "metadata": {},
   "source": [
    "### Sampling"
   ]
  },
  {
   "cell_type": "code",
   "execution_count": 12,
   "id": "aefc6dbe",
   "metadata": {},
   "outputs": [
    {
     "name": "stdout",
     "output_type": "stream",
     "text": [
      "Before sampling: Counter({0: 176857, 1: 24743})\n",
      "After sampling: Counter({0: 176857, 1: 44214})\n"
     ]
    }
   ],
   "source": [
    "# oversampling\n",
    "\n",
    "from collections import Counter\n",
    "from imblearn.over_sampling import RandomOverSampler\n",
    "\n",
    "sampler = RandomOverSampler(sampling_strategy=0.25)\n",
    "\n",
    "print(\"Before sampling: \" + str(Counter(train_y)))\n",
    "train, train_y = sampler.fit_resample(train, train_y)\n",
    "print(\"After sampling: \" + str(Counter(train_y)))"
   ]
  },
  {
   "cell_type": "code",
   "execution_count": 13,
   "id": "f3a22e13",
   "metadata": {},
   "outputs": [
    {
     "name": "stdout",
     "output_type": "stream",
     "text": [
      "Before sampling: Counter({0: 176857, 1: 44214})\n",
      "After sampling: Counter({0: 44214, 1: 44214})\n"
     ]
    }
   ],
   "source": [
    "# undersampling\n",
    "\n",
    "from collections import Counter\n",
    "from imblearn.under_sampling import RandomUnderSampler\n",
    "\n",
    "sampler = RandomUnderSampler(sampling_strategy=1.0)\n",
    "\n",
    "print(\"Before sampling: \" + str(Counter(train_y)))\n",
    "train, train_y = sampler.fit_resample(train, train_y)\n",
    "print(\"After sampling: \" + str(Counter(train_y)))"
   ]
  },
  {
   "cell_type": "code",
   "execution_count": 14,
   "id": "e46cadf6",
   "metadata": {},
   "outputs": [],
   "source": [
    "# ordinal encoding on 'Married/Single' feature\n",
    "from sklearn.preprocessing import OrdinalEncoder\n",
    "\n",
    "marital_enc = OrdinalEncoder(categories=[['single', 'married']])\n",
    "train['Married/Single'] = marital_enc.fit_transform(train['Married/Single'].values.reshape(-1, 1))\n",
    "valid['Married/Single'] = marital_enc.transform(valid['Married/Single'].values.reshape(-1, 1))\n",
    "test['Married/Single'] = marital_enc.transform(test['Married/Single'].values.reshape(-1, 1))"
   ]
  },
  {
   "cell_type": "markdown",
   "id": "14fbdbd7",
   "metadata": {},
   "source": [
    "### Encoding"
   ]
  },
  {
   "cell_type": "code",
   "execution_count": 15,
   "id": "93deb83f",
   "metadata": {},
   "outputs": [],
   "source": [
    "# ordinal encoding on 'House_Ownership'\n",
    "# order between the categories may be percieved as norent_noown < rented < owned\n",
    "house_enc = OrdinalEncoder(categories=[['norent_noown', 'rented', 'owned']])\n",
    "train['House_Ownership'] = house_enc.fit_transform(train['House_Ownership'].values.reshape(-1, 1))\n",
    "valid['House_Ownership'] = house_enc.transform(valid['House_Ownership'].values.reshape(-1, 1))\n",
    "test['House_Ownership'] = house_enc.transform(test['House_Ownership'].values.reshape(-1, 1))"
   ]
  },
  {
   "cell_type": "code",
   "execution_count": 16,
   "id": "463765cc",
   "metadata": {},
   "outputs": [],
   "source": [
    "# ordinal encoding on 'Car_Ownership'\n",
    "car_enc = OrdinalEncoder(categories=[['no', 'yes']])\n",
    "train['Car_Ownership'] = car_enc.fit_transform(train['Car_Ownership'].values.reshape(-1, 1))\n",
    "valid['Car_Ownership'] = car_enc.transform(valid['Car_Ownership'].values.reshape(-1, 1))\n",
    "test['Car_Ownership'] = car_enc.transform(test['Car_Ownership'].values.reshape(-1, 1))"
   ]
  },
  {
   "cell_type": "code",
   "execution_count": 17,
   "id": "9a90b796",
   "metadata": {},
   "outputs": [
    {
     "name": "stdout",
     "output_type": "stream",
     "text": [
      "(88428, 11)\n",
      "(25200, 11)\n",
      "(25200, 11)\n"
     ]
    }
   ],
   "source": [
    "# printing shapes of dataframes before one hot encoding\n",
    "print(train.shape)\n",
    "print(valid.shape)\n",
    "print(test.shape)"
   ]
  },
  {
   "cell_type": "code",
   "execution_count": 18,
   "id": "c6bbdaca",
   "metadata": {},
   "outputs": [],
   "source": [
    "# one hot encoding of 'Profession', 'STATE' using pandas\n",
    "df_combined = pd.get_dummies(train.append([valid, test]), columns=['Profession', 'STATE', 'CITY'],\n",
    "                            drop_first=True)\n",
    "train = df_combined.iloc[:train.shape[0], :].copy()\n",
    "valid = df_combined.iloc[train.shape[0]: train.shape[0] + valid.shape[0], :]\n",
    "test = df_combined.iloc[train.shape[0] + valid.shape[0]:, :].copy()"
   ]
  },
  {
   "cell_type": "code",
   "execution_count": 19,
   "id": "e387ef96",
   "metadata": {},
   "outputs": [
    {
     "name": "stdout",
     "output_type": "stream",
     "text": [
      "(88428, 402)\n",
      "(25200, 402)\n",
      "(25200, 402)\n"
     ]
    }
   ],
   "source": [
    "# printing shapes of dataframes after one hot encoding to ensure spilts were made correctly\n",
    "print(train.shape)\n",
    "print(valid.shape)\n",
    "print(test.shape)"
   ]
  },
  {
   "cell_type": "markdown",
   "id": "491dc308",
   "metadata": {},
   "source": [
    "### Standardization"
   ]
  },
  {
   "cell_type": "code",
   "execution_count": 20,
   "id": "3db43fbd",
   "metadata": {},
   "outputs": [],
   "source": [
    "# performing scaling on all the features\n",
    "from sklearn.preprocessing import StandardScaler\n",
    "\n",
    "scaler = StandardScaler()\n",
    "train_X = scaler.fit_transform(train)\n",
    "valid_X = scaler.transform(valid)\n",
    "test_X = scaler.transform(test)"
   ]
  },
  {
   "cell_type": "markdown",
   "id": "e765aaaf",
   "metadata": {},
   "source": [
    "## Creating Models"
   ]
  },
  {
   "cell_type": "markdown",
   "id": "d8728d45",
   "metadata": {},
   "source": [
    "### Hyperparameter Tuning using Optuna"
   ]
  },
  {
   "cell_type": "code",
   "execution_count": 21,
   "id": "4c87433a",
   "metadata": {},
   "outputs": [],
   "source": [
    "from xgboost import XGBClassifier\n",
    "from sklearn.model_selection import cross_val_score\n",
    "from sklearn.metrics import f1_score, roc_auc_score, recall_score\n",
    "\n",
    "# hyperparameter tuning of xgboost using optuna \n",
    "\n",
    "def objective(trial):\n",
    "    # setting search space\n",
    "    learning_rate = trial.suggest_float(\"learning_rate\", 1e-2, 0.25, log=True)\n",
    "    reg_lambda = trial.suggest_loguniform(\"reg_lambda\", 1e-8, 100.0)\n",
    "    reg_alpha = trial.suggest_loguniform(\"reg_alpha\", 1e-8, 100.0)\n",
    "    subsample = trial.suggest_float(\"subsample\", 0.1, 1.0)\n",
    "    colsample_bytree = trial.suggest_float(\"colsample_bytree\", 0.1, 1.0)\n",
    "    max_depth = trial.suggest_int(\"max_depth\", 1, 7)\n",
    "    n_estimators = trial.suggest_int(\"n_estimators\", 1000, 5000)\n",
    "    \n",
    "    # defining the model\n",
    "    clf = XGBClassifier(learning_rate=learning_rate, \n",
    "                        reg_lambda=reg_lambda,\n",
    "                        subsample=subsample, \n",
    "                        colsample_bytree=colsample_bytree, \n",
    "                        max_depth=max_depth, \n",
    "                        n_estimators=n_estimators, \n",
    "                        use_label_encoder=False,\n",
    "                        random_state=42)\n",
    "    \n",
    "    clf.fit(train_X, train_y, eval_metric='logloss')\n",
    "    valid_preds = clf.predict(valid_X)\n",
    "    \n",
    "    # using ROC AUC Score to choose the best combination of hyperparameters\n",
    "    score = roc_auc_score(valid_y, valid_preds)\n",
    "    \n",
    "    return score"
   ]
  },
  {
   "cell_type": "code",
   "execution_count": 22,
   "id": "7f1d15fe",
   "metadata": {},
   "outputs": [],
   "source": [
    "# # This cell is run only when hypertuning using OPTUNA\n",
    "\n",
    "# # creating study object\n",
    "# study = optuna.create_study(direction=\"maximize\")\n",
    "\n",
    "# # optimising the study object\n",
    "# study.optimize(objective, n_trials=100)\n",
    "\n",
    "# # Print the result\n",
    "# best_params = study.best_params\n",
    "# best_score = study.best_value\n",
    "# print(f\"Best score: {best_score}\\n\")\n",
    "# print(f\"Optimized parameters: {best_params}\\n\")"
   ]
  },
  {
   "cell_type": "code",
   "execution_count": 23,
   "id": "1f8089ec",
   "metadata": {},
   "outputs": [],
   "source": [
    "# Optuna results\n",
    "\n",
    "# scored on roc auc\n",
    "params = {'learning_rate': 0.22657857685769822, \n",
    "                       'reg_lambda': 5.8263201980534444e-08, \n",
    "                       'reg_alpha': 6.30631361255538e-05, \n",
    "                       'subsample': 0.3678211180860871, \n",
    "                       'colsample_bytree': 0.8672653738124343, \n",
    "                       'max_depth': 7, \n",
    "                       'n_estimators': 4973}"
   ]
  },
  {
   "cell_type": "markdown",
   "id": "204cc3f9",
   "metadata": {},
   "source": [
    "### Training"
   ]
  },
  {
   "cell_type": "code",
   "execution_count": 25,
   "id": "db970a95",
   "metadata": {},
   "outputs": [
    {
     "data": {
      "text/plain": [
       "XGBClassifier(base_score=0.5, booster='gbtree', colsample_bylevel=1,\n",
       "              colsample_bynode=1, colsample_bytree=0.8672653738124343, gamma=0,\n",
       "              gpu_id=-1, importance_type='gain', interaction_constraints='',\n",
       "              learning_rate=0.22657857685769822, max_delta_step=0, max_depth=7,\n",
       "              min_child_weight=1, missing=nan, monotone_constraints='()',\n",
       "              n_estimators=4973, n_jobs=16, num_parallel_tree=1,\n",
       "              random_state=42, reg_alpha=6.30631361255538e-05,\n",
       "              reg_lambda=5.8263201980534444e-08, scale_pos_weight=1,\n",
       "              subsample=0.3678211180860871, tree_method='exact',\n",
       "              use_label_encoder=False, validate_parameters=1, verbosity=None)"
      ]
     },
     "execution_count": 25,
     "metadata": {},
     "output_type": "execute_result"
    }
   ],
   "source": [
    "# training the model\n",
    "\n",
    "xgb = XGBClassifier(random_state=42, use_label_encoder=False, **params)\n",
    "\n",
    "xgb.fit(train_X, train_y, eval_metric='logloss')"
   ]
  },
  {
   "cell_type": "markdown",
   "id": "6e34cd6a",
   "metadata": {},
   "source": [
    "### Evaluating the model"
   ]
  },
  {
   "cell_type": "code",
   "execution_count": 26,
   "id": "44e9ea73",
   "metadata": {},
   "outputs": [
    {
     "name": "stderr",
     "output_type": "stream",
     "text": [
      "D:\\anaconda3\\envs\\myenv\\lib\\site-packages\\xgboost\\data.py:114: UserWarning: Use subset (sliced data) of np.ndarray is not recommended because it will generate extra copies and increase memory consumption\n",
      "  \"because it will generate extra copies and increase \" +\n"
     ]
    },
    {
     "name": "stdout",
     "output_type": "stream",
     "text": [
      "[[19217  2808]\n",
      " [  492  2683]]\n",
      "Recall: 0.8450393700787402\n",
      "Precision: 0.4886177381169186\n",
      "F1 Score: 0.6192014770366951\n",
      "Accuracy: 0.8690476190476191\n",
      "ROC AUC Score: 0.8587739415660444\n"
     ]
    }
   ],
   "source": [
    "# measuring performance of our model on the test set\n",
    "from sklearn.metrics import confusion_matrix, precision_score, recall_score, f1_score, accuracy_score, roc_auc_score\n",
    "\n",
    "y_pred = xgb.predict(valid_X)\n",
    "\n",
    "cm = confusion_matrix(valid_y, y_pred)\n",
    "print(cm)\n",
    "print(\"Recall: \" + str(recall_score(valid_y, y_pred)))\n",
    "print(\"Precision: \" + str(precision_score(valid_y, y_pred)))\n",
    "print(\"F1 Score: \" + str(f1_score(valid_y, y_pred)))\n",
    "print(\"Accuracy: \" + str(accuracy_score(valid_y, y_pred)))\n",
    "print(\"ROC AUC Score: \" + str(roc_auc_score(valid_y, y_pred)))"
   ]
  },
  {
   "cell_type": "markdown",
   "id": "a8a56054",
   "metadata": {},
   "source": [
    "## Creating the Final Pipeline"
   ]
  },
  {
   "cell_type": "markdown",
   "id": "896f8034",
   "metadata": {},
   "source": [
    "### Creating New Datasets to train and test the pipeline"
   ]
  },
  {
   "cell_type": "code",
   "execution_count": 30,
   "id": "83bf5254",
   "metadata": {},
   "outputs": [
    {
     "name": "stdout",
     "output_type": "stream",
     "text": [
      "Before over sampling: Counter({0: 198943, 1: 27857})\n",
      "After over sampling: Counter({0: 198943, 1: 49735})\n",
      "Before under sampling: Counter({0: 198943, 1: 49735})\n",
      "After under sampling: Counter({0: 49735, 1: 49735})\n"
     ]
    }
   ],
   "source": [
    "# Creating new dataset splits\n",
    "final_train, final_test = tts(df.copy(), test_size=0.1, random_state=42)\n",
    "\n",
    "# seperating the features and the label\n",
    "final_train_y = final_train['Risk_Flag'].copy()\n",
    "final_train_X = final_train.drop('Risk_Flag', axis=1)\n",
    "final_test_y = final_test['Risk_Flag'].copy()\n",
    "final_test_X = final_test.drop('Risk_Flag', axis=1)\n",
    "\n",
    "# Sampling the final training set\n",
    "oversampler = RandomOverSampler(sampling_strategy=0.25)\n",
    "print(\"Before over sampling: \" + str(Counter(final_train_y)))\n",
    "final_train_X, final_train_y = oversampler.fit_resample(final_train_X, final_train_y)\n",
    "print(\"After over sampling: \" + str(Counter(final_train_y)))\n",
    "\n",
    "undersampler = RandomUnderSampler(sampling_strategy=1.0)\n",
    "print(\"Before under sampling: \" + str(Counter(final_train_y)))\n",
    "final_train_X, final_train_y = undersampler.fit_resample(final_train_X, final_train_y)\n",
    "print(\"After under sampling: \" + str(Counter(final_train_y)))"
   ]
  },
  {
   "cell_type": "markdown",
   "id": "d2cb546a",
   "metadata": {},
   "source": [
    "### Assembling different components"
   ]
  },
  {
   "cell_type": "code",
   "execution_count": 32,
   "id": "3d76606e",
   "metadata": {},
   "outputs": [],
   "source": [
    "from sklearn.preprocessing import OneHotEncoder\n",
    "from sklearn.compose import ColumnTransformer\n",
    "from sklearn.pipeline import Pipeline\n",
    "\n",
    "marital_enc = OrdinalEncoder(categories=[['single', 'married']])\n",
    "\n",
    "# order between the categories may be percieved as norent_noown < rented < owned\n",
    "house_enc = OrdinalEncoder(categories=[['norent_noown', 'rented', 'owned']])\n",
    "\n",
    "car_enc = OrdinalEncoder(categories=[['no', 'yes']])\n",
    "\n",
    "enc1hot_profession = enc = OneHotEncoder(handle_unknown='error', drop='first', sparse=False)\n",
    "enc1hot_state = enc = OneHotEncoder(handle_unknown='error', drop='first', sparse=False)\n",
    "enc1hot_city = enc = OneHotEncoder(handle_unknown='error', drop='first', sparse=False)\n",
    "\n",
    "\n",
    "scaler = StandardScaler()\n",
    "\n",
    "transformers = [\n",
    "    ('marital_enc', marital_enc, ['Married/Single']),\n",
    "    ('house_enc', house_enc, ['House_Ownership']),\n",
    "    ('car_enc', car_enc, ['Car_Ownership']),\n",
    "    ('enc1hot_profession', enc1hot_profession, ['Profession']),\n",
    "    ('enc1hot_state', enc1hot_state, ['STATE']),\n",
    "    ('enc1hot_city', enc1hot_city, ['CITY']),\n",
    "]\n",
    "\n",
    "encoding_transformer = ColumnTransformer(transformers=transformers, \n",
    "                                        remainder='passthrough', n_jobs=-1)\n",
    "\n",
    "steps = [\n",
    "    ('encoding_transformer', encoding_transformer),\n",
    "    ('scaler', scaler),\n",
    "    ('xgb_clf', xgb)\n",
    "]\n",
    "\n",
    "full_pipeline = Pipeline(steps=steps, verbose=True)"
   ]
  },
  {
   "cell_type": "markdown",
   "id": "91b707af",
   "metadata": {},
   "source": [
    "### Training"
   ]
  },
  {
   "cell_type": "code",
   "execution_count": 33,
   "id": "bde24877",
   "metadata": {},
   "outputs": [
    {
     "name": "stdout",
     "output_type": "stream",
     "text": [
      "[Pipeline]  (step 1 of 3) Processing encoding_transformer, total=   1.8s\n",
      "[Pipeline] ............ (step 2 of 3) Processing scaler, total=   0.6s\n",
      "[23:31:10] WARNING: ..\\src\\learner.cc:1095: Starting in XGBoost 1.3.0, the default evaluation metric used with the objective 'binary:logistic' was changed from 'error' to 'logloss'. Explicitly set eval_metric if you'd like to restore the old behavior.\n",
      "[Pipeline] ........... (step 3 of 3) Processing xgb_clf, total=14.7min\n"
     ]
    },
    {
     "data": {
      "text/plain": [
       "Pipeline(steps=[('encoding_transformer',\n",
       "                 ColumnTransformer(n_jobs=-1, remainder='passthrough',\n",
       "                                   transformers=[('marital_enc',\n",
       "                                                  OrdinalEncoder(categories=[['single',\n",
       "                                                                              'married']]),\n",
       "                                                  ['Married/Single']),\n",
       "                                                 ('house_enc',\n",
       "                                                  OrdinalEncoder(categories=[['norent_noown',\n",
       "                                                                              'rented',\n",
       "                                                                              'owned']]),\n",
       "                                                  ['House_Ownership']),\n",
       "                                                 ('car_enc',\n",
       "                                                  OrdinalEncoder(categories=[['no',\n",
       "                                                                              'yes']]),\n",
       "                                                  ['Car_Own...\n",
       "                               max_delta_step=0, max_depth=7,\n",
       "                               min_child_weight=1, missing=nan,\n",
       "                               monotone_constraints='()', n_estimators=4973,\n",
       "                               n_jobs=16, num_parallel_tree=1, random_state=42,\n",
       "                               reg_alpha=6.30631361255538e-05,\n",
       "                               reg_lambda=5.8263201980534444e-08,\n",
       "                               scale_pos_weight=1, subsample=0.3678211180860871,\n",
       "                               tree_method='exact', use_label_encoder=False,\n",
       "                               validate_parameters=1, verbosity=None))],\n",
       "         verbose=True)"
      ]
     },
     "execution_count": 33,
     "metadata": {},
     "output_type": "execute_result"
    }
   ],
   "source": [
    "# training using the pipeline\n",
    "\n",
    "full_pipeline.fit(final_train_X, final_train_y)"
   ]
  },
  {
   "cell_type": "markdown",
   "id": "a9384e1e",
   "metadata": {},
   "source": [
    "### Testing"
   ]
  },
  {
   "cell_type": "code",
   "execution_count": 34,
   "id": "b47a83a7",
   "metadata": {},
   "outputs": [
    {
     "name": "stdout",
     "output_type": "stream",
     "text": [
      "[[19184  2877]\n",
      " [  487  2652]]\n",
      "Recall: 0.8448550493787831\n",
      "Precision: 0.47965274009766684\n",
      "F1 Score: 0.6119058606368252\n",
      "Accuracy Score: 0.8665079365079366\n",
      "ROC AUC score: 0.8572219583052748\n"
     ]
    }
   ],
   "source": [
    "# testing the pipeline to ensure everything works correctly\n",
    "\n",
    "final_y_pred = full_pipeline.predict(final_test_X)\n",
    "\n",
    "cm = confusion_matrix(final_test_y, final_y_pred)\n",
    "print(cm)\n",
    "print(\"Recall: \" + str(recall_score(final_test_y, final_y_pred)))\n",
    "print(\"Precision: \" + str(precision_score(final_test_y, final_y_pred)))\n",
    "print(\"F1 Score: \" + str(f1_score(final_test_y, final_y_pred)))\n",
    "print(\"Accuracy Score: \" + str(accuracy_score(final_test_y, final_y_pred)))\n",
    "print(\"ROC AUC score: \" + str(roc_auc_score(final_test_y, final_y_pred)))"
   ]
  },
  {
   "cell_type": "markdown",
   "id": "12c87c29",
   "metadata": {},
   "source": [
    "## Saving the Pipeline in a pickle file"
   ]
  },
  {
   "cell_type": "code",
   "execution_count": 36,
   "id": "7853b296",
   "metadata": {},
   "outputs": [],
   "source": [
    "# saving pipeline in pickle file\n",
    "import pickle\n",
    "\n",
    "filename = 'my_pipeline.pkl'\n",
    "with open(filename, 'wb') as file:\n",
    "    pickle.dump(full_pipeline, file)"
   ]
  }
 ],
 "metadata": {
  "kernelspec": {
   "display_name": "Python 3 (ipykernel)",
   "language": "python",
   "name": "python3"
  },
  "language_info": {
   "codemirror_mode": {
    "name": "ipython",
    "version": 3
   },
   "file_extension": ".py",
   "mimetype": "text/x-python",
   "name": "python",
   "nbconvert_exporter": "python",
   "pygments_lexer": "ipython3",
   "version": "3.7.11"
  }
 },
 "nbformat": 4,
 "nbformat_minor": 5
}
